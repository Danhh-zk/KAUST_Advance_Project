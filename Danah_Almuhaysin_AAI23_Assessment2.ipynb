{
  "nbformat": 4,
  "nbformat_minor": 0,
  "metadata": {
    "colab": {
      "provenance": [],
      "machine_shape": "hm",
      "gpuType": "T4"
    },
    "kernelspec": {
      "name": "python3",
      "display_name": "Python 3"
    },
    "language_info": {
      "name": "python"
    },
    "accelerator": "GPU",
    "gpuClass": "standard"
  },
  "cells": [
    {
      "cell_type": "markdown",
      "source": [
        "Using the CIFAR10 data provided below, create an alogrithm that takes in a gray scale image and coverts it to a color image.\n",
        "\n",
        "Note for this problem we will define the grayscale image as the average of the three color channels."
      ],
      "metadata": {
        "id": "0FmLTZXJRbwP"
      }
    },
    {
      "cell_type": "code",
      "source": [
        "import torch\n",
        "import torch.nn as nn\n",
        "import torch.nn.functional as F\n",
        "import torch.optim as optim\n",
        "import numpy as np\n",
        "import pandas as pd\n",
        "import matplotlib.pyplot as plt\n",
        "from torchvision import models,transforms\n",
        "from torch.nn.modules.conv import ConvTranspose2d\n",
        "from torch.nn.modules.batchnorm import BatchNorm1d\n",
        "from torchvision.utils import make_grid\n",
        "from torchvision.datasets import MNIST\n",
        "from torch.utils.data.sampler import SubsetRandomSampler\n",
        "from torch.utils.tensorboard import SummaryWriter\n",
        "from torchsummary import summary\n",
        "from torch.utils.data import Dataset, DataLoader"
      ],
      "metadata": {
        "id": "PrlN1-TI0df9"
      },
      "execution_count": 1,
      "outputs": []
    },
    {
      "cell_type": "code",
      "source": [
        "from torchvision.datasets import CIFAR10\n",
        "\n",
        "# set up dataaset and dataloaders\n",
        "trans = transforms.Compose([\n",
        "    transforms.ToTensor()\n",
        "])\n",
        "\n",
        "train_data = CIFAR10(root='./datasets', train=True, download=True, transform=trans)\n",
        "test_data = CIFAR10(root='./datasets', train=True, download=False, transform=trans)\n",
        "\n",
        "train_loader = DataLoader(train_data,batch_size=64, shuffle=True, pin_memory=True)\n",
        "\n",
        "test_loader = DataLoader(test_data,batch_size=64, shuffle=False, pin_memory=True)\n"
      ],
      "metadata": {
        "colab": {
          "base_uri": "https://localhost:8080/"
        },
        "id": "nhoa4MXe_TFU",
        "outputId": "ef5edcdd-6eac-4682-a130-03bb053715a6"
      },
      "execution_count": 56,
      "outputs": [
        {
          "output_type": "stream",
          "name": "stdout",
          "text": [
            "Files already downloaded and verified\n"
          ]
        }
      ]
    },
    {
      "cell_type": "code",
      "source": [
        "# visualize dataset \n",
        "train_data[0][0].shape \n",
        "plt.imshow(train_data[100][0].permute(1,2,0))\n",
        "plt.title(train_data[100][1])"
      ],
      "metadata": {
        "colab": {
          "base_uri": "https://localhost:8080/",
          "height": 469
        },
        "id": "b8deOyUz9YAf",
        "outputId": "43e2cddc-efe3-4a5c-cecd-04463cb2a5fd"
      },
      "execution_count": 57,
      "outputs": [
        {
          "output_type": "execute_result",
          "data": {
            "text/plain": [
              "Text(0.5, 1.0, '8')"
            ]
          },
          "metadata": {},
          "execution_count": 57
        },
        {
          "output_type": "display_data",
          "data": {
            "text/plain": [
              "<Figure size 640x480 with 1 Axes>"
            ],
            "image/png": "[encoded data removed]"
          },
          "metadata": {}
        }
      ]
    },
    {
      "cell_type": "code",
      "source": [
        "# create a new class\n",
        "class VarAutoEncoderConv(nn.Module):\n",
        "  def __init__(self, nz):\n",
        "    super().__init__()\n",
        "    self.nz = nz\n",
        "    # create the layers used in the encoder\n",
        "    self.econv1 = nn.Conv2d(1, 32, 3, 2, 1)\n",
        "    self.ebn1 = nn.BatchNorm2d(32) \n",
        "    self.econv2 = nn.Conv2d(32, 64, 3, 2, 1)\n",
        "    self.ebn2 = nn.BatchNorm2d(64)\n",
        "    self.econv3 = nn.Conv2d(64, 128, 3, 2, 1)\n",
        "    self.ebn3 = nn.BatchNorm2d(128)\n",
        "    self.elinear1 = nn.Linear(64 * 4 * 4, 128)\n",
        "    self.elinear2 = nn.Linear(128, 64)\n",
        "    self.elinear3 = nn.Linear(64, nz)\n",
        "    # create the layers in the decoder block\n",
        "    self.dlinear1 = nn.Linear(nz, 64)\n",
        "    self.dlinear2 = nn.Linear(64, 128)\n",
        "    self.dlinear3 = nn.Linear(128, 64 * 4 * 4)\n",
        "    self.deconv1 = nn.ConvTranspose2d(128, 64, 3, 2, 1, output_padding=1) #input_channel , out , filter , stride , padding \n",
        "    self.deconv2 = nn.ConvTranspose2d(64, 32, 3, 2, 1, output_padding=1)\n",
        "    self.deconv3 = nn.ConvTranspose2d(32, 3, 3, 2, 1, output_padding=1)\n",
        "\n",
        "    # adding batchnorm1d\n",
        "    self.bnl2 = nn.BatchNorm1d(64) #1d linear\n",
        "    self.bnl3 = nn.BatchNorm1d(128)\n",
        "    \n",
        "    # create the layers used in generating the mean and standard deviation\n",
        "    self.slinear = nn.Linear(nz, nz) \n",
        "    self.ulinear = nn.Linear(nz, nz)\n",
        "\n",
        "  # create the encoder block using the above created layers\n",
        "  def encoder(self, x):\n",
        "    x = F.leaky_relu(self.econv1(x)) #activation - leaky_relu\n",
        "    x = self.ebn1(x)\n",
        "    x = F.leaky_relu(self.econv2(x))\n",
        "    x = self.ebn2(x)\n",
        "    x = F.leaky_relu(self.econv3(x))\n",
        "    x = self.ebn3(x)\n",
        "    x = x.view(-1, 64 * 4 * 4)\n",
        "    x = torch.relu(self.elinear1(x))\n",
        "    x = self.bnl3(x)\n",
        "    x = torch.relu(self.elinear2(x))\n",
        "    x = self.bnl2(x)\n",
        "    x = torch.sigmoid(self.elinear3(x))\n",
        "    return x\n",
        "\n",
        "  # create the decoder block using the above create layers\n",
        "  def decoder(self, x):\n",
        "    x = torch.relu(self.dlinear1(x))\n",
        "    x = self.bnl2(x)\n",
        "    x = torch.relu(self.dlinear2(x))\n",
        "    x = self.bnl3(x)\n",
        "    x = torch.relu(self.dlinear3(x))\n",
        "    x = x.view(-1, 128, 4, 4)\n",
        "    x = self.ebn3(x)\n",
        "    x = F.leaky_relu(self.deconv1(x))\n",
        "    x = self.ebn2(x)\n",
        "    x = F.leaky_relu(self.deconv2(x))\n",
        "    x = self.ebn1(x)\n",
        "    x = torch.sigmoid(self.deconv3(x))\n",
        "    return x\n",
        "  \n",
        "   # define a function to get the parameters for the decoding part\n",
        "  def get_params(self, x): \n",
        "    u = torch.relu(self.ulinear(x))\n",
        "    logvar = torch.relu(self.slinear(x))\n",
        "    return u, logvar\n",
        "\n",
        "  # define the reparametarization trick for getting z\n",
        "  def reparametarization(self, u, logvar): \n",
        "    std = torch.exp(logvar/2)\n",
        "    z = u + std * torch.rand_like(u) #d and ed\n",
        "    return z\n",
        "\n",
        "  # define the forward function\n",
        "  def forward(self, x):\n",
        "    ex = self.encoder(x)\n",
        "    u, logvar = self.get_params(ex) \n",
        "    z = self.reparametarization(u, logvar) \n",
        "    x = self.decoder(z) \n",
        "    return z, x, u, logvar"
      ],
      "metadata": {
        "id": "o_2eXKP81xp0"
      },
      "execution_count": 58,
      "outputs": []
    },
    {
      "cell_type": "code",
      "source": [
        "# define loss function for the varautoencoder\n",
        "def var_loss(X_hat, X, u, logvar):\n",
        "  KLD_WEIGHT = 0.0001\n",
        "  term1 = F.mse_loss(X_hat, X)\n",
        "  term2 = torch.mean(torch.sum(0.5 * (1 + logvar - torch.exp(logvar) - u**2), axis=1), axis=0)\n",
        "  return (1 - KLD_WEIGHT) * term1 - (KLD_WEIGHT * term2)"
      ],
      "metadata": {
        "id": "ing521lPN0sl"
      },
      "execution_count": 59,
      "outputs": []
    },
    {
      "cell_type": "markdown",
      "source": [
        "We train the VAE to try and compare between the grayscale images as input to the generated colour imgaes. We evalutae its performance via comparing the actual coloured image with the generated colour images"
      ],
      "metadata": {
        "id": "kUY7DG4jYN7a"
      }
    },
    {
      "cell_type": "code",
      "source": [
        "device = torch.device(\"cuda:0\")\n",
        "net =  VarAutoEncoderConv(15).to(device)\n",
        "opt = optim.Adam(net.parameters(), lr = 1e-2)\n",
        "epochs = 20\n",
        "ls = []\n",
        "for i in range(epochs):\n",
        "  total_loss = 0\n",
        "  for batch in train_loader:\n",
        "    X = batch[0].to(device)\n",
        "    # create grayscale transform\n",
        "    gray = transforms.Grayscale()\n",
        "    X_gray = torch.zeros(X.shape)\n",
        "    # convert images to grayscale\n",
        "    X_gray = gray(X[:,:,:,:])\n",
        "    z, Xhat, u, logvar = net(X_gray)\n",
        "    loss = var_loss(Xhat, X, u, logvar)\n",
        "    opt.zero_grad()\n",
        "    loss.backward()\n",
        "    opt.step()\n",
        "    total_loss+=loss.item()\n",
        "\n",
        "  ls.append(total_loss)\n",
        "\n",
        "plt.plot(ls)"
      ],
      "metadata": {
        "id": "bccQw3Z7Njhg",
        "colab": {
          "base_uri": "https://localhost:8080/",
          "height": 447
        },
        "outputId": "395df699-c6e7-49bf-f736-87461f84d3c9"
      },
      "execution_count": 93,
      "outputs": [
        {
          "output_type": "execute_result",
          "data": {
            "text/plain": [
              "[<matplotlib.lines.Line2D at 0x7f191c89d330>]"
            ]
          },
          "metadata": {},
          "execution_count": 93
        },
        {
          "output_type": "display_data",
          "data": {
            "text/plain": [
              "<Figure size 640x480 with 1 Axes>"
            ],
            "image/png": "[encoded data removed]"
          },
          "metadata": {}
        }
      ]
    },
    {
      "cell_type": "code",
      "source": [
        "#test\n",
        "# evaluate images of the model\n",
        "net.eval()\n",
        "z = torch.randn(64, 15).to(device)\n",
        "X_hat = net.decoder(z)\n",
        "plt.imshow(X_hat[0,:,:,:].permute(1, 2, 0).detach().cpu().numpy())"
      ],
      "metadata": {
        "colab": {
          "base_uri": "https://localhost:8080/",
          "height": 447
        },
        "id": "hRk2o-F55Xf8",
        "outputId": "ba3c7374-6bce-4fe3-a4e0-0538eb0e70f6"
      },
      "execution_count": 100,
      "outputs": [
        {
          "output_type": "execute_result",
          "data": {
            "text/plain": [
              "<matplotlib.image.AxesImage at 0x7f191c3e0610>"
            ]
          },
          "metadata": {},
          "execution_count": 100
        },
        {
          "output_type": "display_data",
          "data": {
            "text/plain": [
              "<Figure size 640x480 with 1 Axes>"
            ],
            "image/png": "[encoded data removed]"
          },
          "metadata": {}
        }
      ]
    }
  ]
}